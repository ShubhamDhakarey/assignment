{
  "nbformat": 4,
  "nbformat_minor": 0,
  "metadata": {
    "colab": {
      "provenance": []
    },
    "kernelspec": {
      "name": "python3",
      "display_name": "Python 3"
    },
    "language_info": {
      "name": "python"
    }
  },
  "cells": [
    {
      "cell_type": "markdown",
      "source": [
        "**Q1.  Explain with an example each when to use a for loop and a while loop.**"
      ],
      "metadata": {
        "id": "tmrB7OFL3fBF"
      }
    },
    {
      "cell_type": "code",
      "execution_count": null,
      "metadata": {
        "colab": {
          "base_uri": "https://localhost:8080/"
        },
        "id": "x8oJzJfX3dkg",
        "outputId": "2258ded9-7d4d-409d-e692-6f70021c337d"
      },
      "outputs": [
        {
          "output_type": "stream",
          "name": "stdout",
          "text": [
            "12  23  45  76  43  "
          ]
        }
      ],
      "source": [
        "list=[12,23,45,76,43]\n",
        "for i in list:\n",
        "  print(i,end=\"  \")"
      ]
    },
    {
      "cell_type": "code",
      "source": [
        "count=1\n",
        "while count<10:\n",
        "  print(count,end=\"  \")\n",
        "  count+=1\n",
        "  "
      ],
      "metadata": {
        "colab": {
          "base_uri": "https://localhost:8080/"
        },
        "id": "QmIewpw93uZ-",
        "outputId": "16916cfe-2f30-43c8-d206-5f906528531b"
      },
      "execution_count": null,
      "outputs": [
        {
          "output_type": "stream",
          "name": "stdout",
          "text": [
            "1  2  3  4  5  6  7  8  9  "
          ]
        }
      ]
    },
    {
      "cell_type": "markdown",
      "source": [
        "**Q2.  Write a python program to print the sum and product of the first 10 natural numbers using for\n",
        "and while loop.**"
      ],
      "metadata": {
        "id": "VRsZgJE06ATy"
      }
    },
    {
      "cell_type": "code",
      "source": [
        "# Sum and Product of first 10 natural numbers using for loop\n",
        "\n",
        "sum=0\n",
        "product=1\n",
        "\n",
        "for i in range(1,11):\n",
        "  sum += i\n",
        "  product *= i\n",
        "\n",
        "print(\"The sum of 10 Natural numbers are :\" ,sum)\n",
        "print(\"The product of 10 Natural numbers are :\" ,product)\n"
      ],
      "metadata": {
        "id": "aMwJx_A-63iE",
        "colab": {
          "base_uri": "https://localhost:8080/"
        },
        "outputId": "92bcbdbf-af6f-45dd-faeb-e18dacf41c32"
      },
      "execution_count": null,
      "outputs": [
        {
          "output_type": "stream",
          "name": "stdout",
          "text": [
            "The sum of 10 Natural numbers are : 55\n",
            "The product of 10 Natural numbers are : 3628800\n"
          ]
        }
      ]
    },
    {
      "cell_type": "code",
      "source": [
        "# Sum and Product of first 10 natural numbers using while loop\n",
        "\n",
        "sum = 0\n",
        "product = 1\n",
        "i = 1\n",
        "\n",
        "while i <= 10:\n",
        "    sum += i\n",
        "    product *= i\n",
        "    i += 1\n",
        "\n",
        "print(\"Sum of first 10 natural numbers: \", sum)\n",
        "print(\"Product of first 10 natural numbers: \", product)\n"
      ],
      "metadata": {
        "id": "-Q0McNdz8V6q",
        "colab": {
          "base_uri": "https://localhost:8080/"
        },
        "outputId": "367e4a92-4aef-4772-abac-86eea3fb4c0f"
      },
      "execution_count": null,
      "outputs": [
        {
          "output_type": "stream",
          "name": "stdout",
          "text": [
            "Sum of first 10 natural numbers:  55\n",
            "Product of first 10 natural numbers:  3628800\n"
          ]
        }
      ]
    },
    {
      "cell_type": "markdown",
      "source": [
        "**Q3. Create a python program to compute the electricity bill for a household.**\n",
        "The per-unit charges in rupees are as follows: For the first 100 units, the user will be charged Rs. 4.5 per\n",
        "unit, for the next 100 units, the user will be charged Rs. 6 per unit, and for the next 100 units, the user will\n",
        "be charged Rs. 10 per unit, After 300 units and above the user will be charged Rs. 20 per unit."
      ],
      "metadata": {
        "id": "b_OylgoRCbI6"
      }
    },
    {
      "cell_type": "code",
      "source": [
        "# input electricity units consumed by the household\n",
        "\n",
        "units=int(input(\"please enter the number of units you consumed in a month\"))\n",
        "\n",
        "if units <= 100:\n",
        "  charges = units*4.5\n",
        "elif units <= 200:\n",
        "  charges = (100*4.5) + (units-100) * 6\n",
        "elif units <= 300 :\n",
        "  charges = (100*4.5) + (100*6) + ((units-200) * 10)\n",
        "else :\n",
        "  charges = (100*4.5) + (100*6) + (100*10) + ((units-300) * 20)\n",
        "  \n",
        "print(\"Electricity bill: Rs. \",charges)"
      ],
      "metadata": {
        "colab": {
          "base_uri": "https://localhost:8080/"
        },
        "id": "1OH3Apk7AANl",
        "outputId": "204d69c9-c02e-4725-a2dd-f1b249efc5cb"
      },
      "execution_count": null,
      "outputs": [
        {
          "output_type": "stream",
          "name": "stdout",
          "text": [
            "please enter the number of units you consumed in a month310\n",
            "Electricity bill: Rs.  2250.0\n"
          ]
        }
      ]
    },
    {
      "cell_type": "markdown",
      "source": [
        "**Q4. Create a list of numbers from 1 to 100. Use for loop and while loop to calculate the cube of each\n",
        "number and if the cube of that number is divisible by 4 or 5 then append that number in a list and print\n",
        "that list.**"
      ],
      "metadata": {
        "id": "Ii9nck98Gx3Y"
      }
    },
    {
      "cell_type": "code",
      "source": [
        "lis=[]\n",
        "for i in range(1,101):\n",
        "  cube=i**3\n",
        "  if cube%4==0 or cube%5==0 :\n",
        "    lis.append(cube)\n",
        "print(lis)"
      ],
      "metadata": {
        "colab": {
          "base_uri": "https://localhost:8080/"
        },
        "id": "5ZM6zh5pGDFZ",
        "outputId": "47c5e6bb-5ce7-4e3d-902e-a04618599026"
      },
      "execution_count": null,
      "outputs": [
        {
          "output_type": "stream",
          "name": "stdout",
          "text": [
            "[8, 64, 125, 216, 512, 1000, 1728, 2744, 3375, 4096, 5832, 8000, 10648, 13824, 15625, 17576, 21952, 27000, 32768, 39304, 42875, 46656, 54872, 64000, 74088, 85184, 91125, 97336, 110592, 125000, 140608, 157464, 166375, 175616, 195112, 216000, 238328, 262144, 274625, 287496, 314432, 343000, 373248, 405224, 421875, 438976, 474552, 512000, 551368, 592704, 614125, 636056, 681472, 729000, 778688, 830584, 857375, 884736, 941192, 1000000]\n"
          ]
        }
      ]
    },
    {
      "cell_type": "markdown",
      "source": [
        "**Q5.  Write a program to filter count vowels in the below-given string.\n",
        "string = \"I want to become a data scientist\".**"
      ],
      "metadata": {
        "id": "bC4_EbPoKf7t"
      }
    },
    {
      "cell_type": "code",
      "source": [
        "str='I want to become a data scientist'\n",
        "count=0\n",
        "for i in str:\n",
        "  if i=='a' or i=='e' or i=='i' or i=='I' or i=='o' or i=='u':\n",
        "    count+=1\n",
        "print(count)"
      ],
      "metadata": {
        "colab": {
          "base_uri": "https://localhost:8080/"
        },
        "id": "n8bb6ORjKP05",
        "outputId": "2f96b913-3002-4766-f2a0-a2849ccb6918"
      },
      "execution_count": null,
      "outputs": [
        {
          "output_type": "stream",
          "name": "stdout",
          "text": [
            "12\n"
          ]
        }
      ]
    },
    {
      "cell_type": "code",
      "source": [],
      "metadata": {
        "id": "-iShPN9hLMff"
      },
      "execution_count": null,
      "outputs": []
    }
  ]
}