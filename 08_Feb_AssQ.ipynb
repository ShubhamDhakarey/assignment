{
  "nbformat": 4,
  "nbformat_minor": 0,
  "metadata": {
    "colab": {
      "provenance": [],
      "authorship_tag": "ABX9TyOq4LsMlqHtvXbyYKEzJ2Qn",
      "include_colab_link": true
    },
    "kernelspec": {
      "name": "python3",
      "display_name": "Python 3"
    },
    "language_info": {
      "name": "python"
    }
  },
  "cells": [
    {
      "cell_type": "markdown",
      "metadata": {
        "id": "view-in-github",
        "colab_type": "text"
      },
      "source": [
        "<a href=\"https://colab.research.google.com/github/ShubhamDhakarey/assignment/blob/main/08_Feb_AssQ.ipynb\" target=\"_parent\"><img src=\"https://colab.research.google.com/assets/colab-badge.svg\" alt=\"Open In Colab\"/></a>"
      ]
    },
    {
      "cell_type": "markdown",
      "source": [
        "**Q1. What is Abstraction in OOps? Explain with an example.**\n",
        "\n"
      ],
      "metadata": {
        "id": "Wxt4UBBZDo5c"
      }
    },
    {
      "cell_type": "markdown",
      "source": [
        "**Ans :**Abstraction use hiding implementetion and providing functionality.Abstraction is the process of hiding the internal details of an application from the outer world. Abstraction is used to describe things in simple terms. It’s used to create a boundary between the application and the client programs."
      ],
      "metadata": {
        "id": "ifIGDoY7D73S"
      }
    },
    {
      "cell_type": "code",
      "execution_count": 1,
      "metadata": {
        "id": "4qM0wlEkDnLu"
      },
      "outputs": [],
      "source": [
        "from abc import *\n",
        "class vahicle(ABC):\n",
        "  @abstractmethod\n",
        "  def noofwheels(self):\n",
        "    pass\n",
        "class car(vahicle):\n",
        "  def noofwheels(self):\n",
        "    return 4\n",
        "class auto(vahicle):\n",
        "  def noofwheels(self):\n",
        "    return 3"
      ]
    },
    {
      "cell_type": "code",
      "source": [
        "object_car=car()\n",
        "print(object_car.noofwheels())"
      ],
      "metadata": {
        "colab": {
          "base_uri": "https://localhost:8080/"
        },
        "id": "SEiy5451G_Jk",
        "outputId": "983aa464-6e16-416a-cf78-25a59d090811"
      },
      "execution_count": 4,
      "outputs": [
        {
          "output_type": "stream",
          "name": "stdout",
          "text": [
            "4\n"
          ]
        }
      ]
    },
    {
      "cell_type": "code",
      "source": [
        "object_auto=auto()\n",
        "print(object_auto.noofwheels())"
      ],
      "metadata": {
        "colab": {
          "base_uri": "https://localhost:8080/"
        },
        "id": "dbTrXJKdHOqf",
        "outputId": "598ea990-eb51-479a-df2e-a6e4eae11ac7"
      },
      "execution_count": 5,
      "outputs": [
        {
          "output_type": "stream",
          "name": "stdout",
          "text": [
            "3\n"
          ]
        }
      ]
    },
    {
      "cell_type": "markdown",
      "source": [
        "**Q2. Differentiate between Abstraction and Encapsulation. Explain with an example.**"
      ],
      "metadata": {
        "id": "7OzpiYWXHflo"
      }
    },
    {
      "cell_type": "markdown",
      "source": [
        "**Ans :**Abstraction is focused mainly on what should be done, while Encapsulation is focused on how it should be done. Abstraction hides complexity by giving you a more abstract picture, while Encapsulation hides internal work so that you can change it later."
      ],
      "metadata": {
        "id": "rw_cuEmrJCMR"
      }
    },
    {
      "cell_type": "code",
      "source": [
        "class A:\n",
        "  def __init__(self):\n",
        "    self.a='public'\n",
        "    self._b='internal use only'\n",
        "    self.__c='name meaning in action'"
      ],
      "metadata": {
        "id": "bWhhEa0gHtG0"
      },
      "execution_count": 6,
      "outputs": []
    },
    {
      "cell_type": "code",
      "source": [
        "def main():\n",
        "  x=A()\n",
        "  print(x.a)\n",
        "  print(x._b)\n",
        "  print(x._A__c)"
      ],
      "metadata": {
        "id": "oJHW6AjpK_mP"
      },
      "execution_count": 8,
      "outputs": []
    },
    {
      "cell_type": "code",
      "source": [
        "if __name__=='__main__':\n",
        "  main()"
      ],
      "metadata": {
        "colab": {
          "base_uri": "https://localhost:8080/"
        },
        "id": "c8MwV5vVLQf5",
        "outputId": "cd61e49f-d0f2-4b27-a775-1c8f6a8e3012"
      },
      "execution_count": 10,
      "outputs": [
        {
          "output_type": "stream",
          "name": "stdout",
          "text": [
            "public\n",
            "internal use only\n",
            "name meaning in action\n"
          ]
        }
      ]
    },
    {
      "cell_type": "code",
      "source": [
        "from abc import *\n",
        "class animal(ABC):\n",
        "  @abstractmethod\n",
        "  def move(self):\n",
        "    pass\n",
        "class human(animal):\n",
        "  def move(self):\n",
        "    print('i can walk and run...')\n",
        "class snake(animal):\n",
        "  def move(self):\n",
        "    print('i can crawl...')"
      ],
      "metadata": {
        "id": "hat-6nqDLbM_"
      },
      "execution_count": 11,
      "outputs": []
    },
    {
      "cell_type": "code",
      "source": [
        "h=human()\n",
        "s=snake()\n",
        "h.move()\n",
        "s.move()"
      ],
      "metadata": {
        "colab": {
          "base_uri": "https://localhost:8080/"
        },
        "id": "BXdDbCRmMSI3",
        "outputId": "8b5a4087-dacf-44de-cd11-f60255eda150"
      },
      "execution_count": 12,
      "outputs": [
        {
          "output_type": "stream",
          "name": "stdout",
          "text": [
            "i can walk and run...\n",
            "i can crawl...\n"
          ]
        }
      ]
    },
    {
      "cell_type": "markdown",
      "source": [
        "**Q3. What is abc module in python? Why is it used?**"
      ],
      "metadata": {
        "id": "AzkpoIqrMgMI"
      }
    },
    {
      "cell_type": "markdown",
      "source": [
        "**Ans :**The 'abc' module in Python library provides the infrastructure for defining custom abstract base classes. 'abc' works by marking methods of the base class as abstract. This is done by @absttractmethod decorator. A concrete class which is a sub class of such abstract base class then implements the abstract base by overriding its abstract methods."
      ],
      "metadata": {
        "id": "-VR-dJ7rMp41"
      }
    },
    {
      "cell_type": "code",
      "source": [],
      "metadata": {
        "id": "FUvLfvL3MdiU"
      },
      "execution_count": null,
      "outputs": []
    },
    {
      "cell_type": "markdown",
      "source": [
        "**Q4. How can we achieve data abstraction?**"
      ],
      "metadata": {
        "id": "6QYFK9XkNNBm"
      }
    },
    {
      "cell_type": "markdown",
      "source": [
        "**Ans :**In project insializ lavel its very important use according to need define this. We can define an abstract method using @abstractmethod keyword on the top of a method. We can use abc module of python to achieve data abstraction in python. To define an abstract method in python we can import abstractmethod from the abc module of python. Let’s understand how to define data abstraction in python with help of an example."
      ],
      "metadata": {
        "id": "3FnOSiKfNb9R"
      }
    },
    {
      "cell_type": "code",
      "source": [
        "# abstraction in python\n",
        "from abc import ABC,abstractmethod\n",
        "\n",
        "class Prepbytes(ABC):\n",
        "    @abstractmethod\n",
        "    def my_method(self):\n",
        "        # body will always be empty\n",
        "        pass"
      ],
      "metadata": {
        "id": "qKoSDhmVNXtR"
      },
      "execution_count": 13,
      "outputs": []
    },
    {
      "cell_type": "markdown",
      "source": [
        "**Q5. Can we create an instance of an abstract class? Explain your answer.**"
      ],
      "metadata": {
        "id": "sz9IoZuCPNji"
      }
    },
    {
      "cell_type": "markdown",
      "source": [
        "**Ans :** Abstract class can not be instantiated. it can only be inherited. to create the abstract class we have to inherit ABC class from the abc module. meaning you cannot create new instances of an abstract class. The purpose of an abstract class is to function as a base for subclasses."
      ],
      "metadata": {
        "id": "aH4sQfVYQXKM"
      }
    },
    {
      "cell_type": "code",
      "source": [],
      "metadata": {
        "id": "y4D33FcgOgGN"
      },
      "execution_count": null,
      "outputs": []
    }
  ]
}