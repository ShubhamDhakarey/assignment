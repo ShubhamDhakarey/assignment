{
  "nbformat": 4,
  "nbformat_minor": 0,
  "metadata": {
    "colab": {
      "provenance": []
    },
    "kernelspec": {
      "name": "python3",
      "display_name": "Python 3"
    },
    "language_info": {
      "name": "python"
    }
  },
  "cells": [
    {
      "cell_type": "markdown",
      "source": [
        "**Q1. Which keyword is used to create a function? Create a function to return a list of odd numbers in the\n",
        "range of 1 to 25.**"
      ],
      "metadata": {
        "id": "imz9dPVRCzB6"
      }
    },
    {
      "cell_type": "code",
      "execution_count": null,
      "metadata": {
        "colab": {
          "base_uri": "https://localhost:8080/"
        },
        "id": "_Y-2QEK7_LNg",
        "outputId": "e7154ccd-6ab6-482e-c2a4-3acb67f20f19"
      },
      "outputs": [
        {
          "output_type": "stream",
          "name": "stdout",
          "text": [
            "1  2  3  4  5  6  7  8  9  "
          ]
        }
      ],
      "source": [
        "count=1\n",
        "while count<10:\n",
        "  print(count,end=\"  \")\n",
        "  count+=1"
      ]
    },
    {
      "cell_type": "code",
      "source": [
        "list=[1,2,3,4,5,6]\n",
        "for i in list:\n",
        "  print(i)"
      ],
      "metadata": {
        "colab": {
          "base_uri": "https://localhost:8080/"
        },
        "id": "gu8dot0F_4hu",
        "outputId": "1f326002-a68a-4084-c074-bc745f8b0538"
      },
      "execution_count": null,
      "outputs": [
        {
          "output_type": "stream",
          "name": "stdout",
          "text": [
            "1\n",
            "2\n",
            "3\n",
            "4\n",
            "5\n",
            "6\n"
          ]
        }
      ]
    },
    {
      "cell_type": "markdown",
      "source": [
        "**Q2. Why *args and **kwargs is used in some functions? Create a function each for *args and **kwargs\n",
        "to demonstrate their use.**\n"
      ],
      "metadata": {
        "id": "vzlWgSNTDBns"
      }
    },
    {
      "cell_type": "markdown",
      "source": [
        "**Answer** \n",
        "We can use *args and **kwargs as function arguments when number of arguments are not sure to pass in the functions."
      ],
      "metadata": {
        "id": "uTeNsIwXD238"
      }
    },
    {
      "cell_type": "code",
      "source": [
        "def fun(*args):\n",
        "  print(sum(args))\n",
        "fun(2,3,4)"
      ],
      "metadata": {
        "id": "w00LmTt0AFCK",
        "colab": {
          "base_uri": "https://localhost:8080/"
        },
        "outputId": "f47f0fe8-369e-455d-9071-fd5f12f6b61b"
      },
      "execution_count": null,
      "outputs": [
        {
          "output_type": "stream",
          "name": "stdout",
          "text": [
            "9\n"
          ]
        }
      ]
    },
    {
      "cell_type": "code",
      "source": [
        "def fun(**kwargs):\n",
        "  count=0\n",
        "  for i in kwargs.values():\n",
        "    count+=i\n",
        "  print(\"Total Fruits\",count)\n",
        "fun(mango=7,banana=6)"
      ],
      "metadata": {
        "colab": {
          "base_uri": "https://localhost:8080/"
        },
        "id": "wclpSQ-NEnCO",
        "outputId": "e94fdf93-0549-480b-c62e-f46ddfe77fba"
      },
      "execution_count": null,
      "outputs": [
        {
          "output_type": "stream",
          "name": "stdout",
          "text": [
            "Total Fruits 13\n"
          ]
        }
      ]
    },
    {
      "cell_type": "markdown",
      "source": [
        "**Q3.  What is an iterator in python? Name the method used to initialise the iterator object and the method\n",
        "used for iteration. Use these methods to print the first five elements of the given list [2, 4, 6, 8, 10, 12, 14,\n",
        "16, 18, 20].**"
      ],
      "metadata": {
        "id": "c1MUClxYDM8Z"
      }
    },
    {
      "cell_type": "markdown",
      "source": [
        "Iterator are used to iterate collections of items in the form of list , tuples etc."
      ],
      "metadata": {
        "id": "aOLBEn48JDN5"
      }
    },
    {
      "cell_type": "markdown",
      "source": [
        "iter() and next() methods are used to initialise the iterator objects."
      ],
      "metadata": {
        "id": "owzppIVNJQE6"
      }
    },
    {
      "cell_type": "code",
      "source": [
        "list=[1,2,3,4,5]\n",
        "iterator=iter(list)\n",
        "print(next(iterator))\n",
        "print(next(iterator))\n",
        "# or\n",
        "print(\"output\")\n",
        "for i in list:\n",
        "  print(i)"
      ],
      "metadata": {
        "id": "P4XQaXhTDmmo",
        "colab": {
          "base_uri": "https://localhost:8080/"
        },
        "outputId": "bdc32312-a9d7-4adc-bf27-f4435a512cf2"
      },
      "execution_count": null,
      "outputs": [
        {
          "output_type": "stream",
          "name": "stdout",
          "text": [
            "1\n",
            "2\n",
            "output\n",
            "1\n",
            "2\n",
            "3\n",
            "4\n",
            "5\n"
          ]
        }
      ]
    },
    {
      "cell_type": "markdown",
      "source": [
        "**Q4.  What is a generator function in python? Why yield keyword is used? Give an example of a generator\n",
        "function.**"
      ],
      "metadata": {
        "id": "5TxgRq3rDQz2"
      }
    },
    {
      "cell_type": "markdown",
      "source": [
        "Generator function allows us to declare a function that behaves like iterator, providing faster and easier way to create iterators.In this , we use yield keyword instead of return."
      ],
      "metadata": {
        "id": "olmUww_wLglm"
      }
    },
    {
      "cell_type": "markdown",
      "source": [
        "We should use yield when we want to iterate over a sequence, but don't want to store the entire sequence in memory"
      ],
      "metadata": {
        "id": "531x7QyEMkyq"
      }
    },
    {
      "cell_type": "code",
      "source": [
        "def even():  \n",
        "  for i in range(19):  \n",
        "    if(i%2==0):  \n",
        "         yield i    \n",
        "for i in even():  \n",
        "    print(i) "
      ],
      "metadata": {
        "id": "jcEDsmHjDK5Z",
        "colab": {
          "base_uri": "https://localhost:8080/"
        },
        "outputId": "0a1e9cc3-d8a6-4add-f3af-f57f71a74ebd"
      },
      "execution_count": null,
      "outputs": [
        {
          "output_type": "stream",
          "name": "stdout",
          "text": [
            "0\n",
            "2\n",
            "4\n",
            "6\n",
            "8\n",
            "10\n",
            "12\n",
            "14\n",
            "16\n",
            "18\n"
          ]
        }
      ]
    },
    {
      "cell_type": "markdown",
      "source": [
        "**Q5. Create a generator function for prime numbers less than 1000. Use the next() method to print the\n",
        "first 20 prime numbers.**"
      ],
      "metadata": {
        "id": "ZuJ6mi5qDnfJ"
      }
    },
    {
      "cell_type": "code",
      "source": [
        "def prime():\n",
        "  for i in range(10):\n",
        "    if i"
      ],
      "metadata": {
        "id": "sw9zs-E-DsVM"
      },
      "execution_count": null,
      "outputs": []
    },
    {
      "cell_type": "markdown",
      "source": [
        "**Q6. Write a python program to print the first 10 Fibonacci numbers using a while loop.**"
      ],
      "metadata": {
        "id": "yVHvp_RzDv66"
      }
    },
    {
      "cell_type": "code",
      "source": [
        "def fib(n):\n",
        "  if n==0:\n",
        "    return 0\n",
        "  elif (n==1):\n",
        "    return 1\n",
        "  else:\n",
        "    return (fib(n-1)+fib(n-2))\n",
        "n=int(input())\n",
        "for n in range(0,n):\n",
        "  print(fib(n),end=\" \")"
      ],
      "metadata": {
        "id": "fju7en6dDzIO",
        "colab": {
          "base_uri": "https://localhost:8080/"
        },
        "outputId": "b8d32923-6901-4cf1-da29-935dc7e0fe79"
      },
      "execution_count": null,
      "outputs": [
        {
          "output_type": "stream",
          "name": "stdout",
          "text": [
            "6\n",
            "0 1 1 2 3 5 "
          ]
        }
      ]
    },
    {
      "cell_type": "markdown",
      "source": [
        "**Q7. Write a List Comprehension to iterate through the given string: ‘pwskills’\n",
        "Expected output: ['p', 'w', 's', 'k', 'i', 'l', 'l', 's'].**"
      ],
      "metadata": {
        "id": "8e4d76uODswI"
      }
    },
    {
      "cell_type": "code",
      "source": [
        "str='pwskills'\n",
        "list=[]\n",
        "for i in str:\n",
        "  list.append(i)\n",
        "print(list)"
      ],
      "metadata": {
        "id": "smI4meMeD9HA",
        "colab": {
          "base_uri": "https://localhost:8080/"
        },
        "outputId": "ba01e37f-5e76-4f42-cb2d-318402e34049"
      },
      "execution_count": null,
      "outputs": [
        {
          "output_type": "stream",
          "name": "stdout",
          "text": [
            "['p', 'w', 's', 'k', 'i', 'l', 'l', 's']\n"
          ]
        }
      ]
    },
    {
      "cell_type": "markdown",
      "source": [
        "**Q8. Write a python program to check whether a given number is Palindrome or not using a while loop.**"
      ],
      "metadata": {
        "id": "VFpJpl3yECuo"
      }
    },
    {
      "cell_type": "code",
      "source": [
        "num=int(input(\"Enter a number:\"))\n",
        "temp=num\n",
        "rev=0\n",
        "while(num>0):\n",
        "    dig=num%10\n",
        "    rev=rev*10+dig\n",
        "    num=num//10\n",
        "if(temp==rev):\n",
        "    print(\"The number is palindrome!\")\n",
        "else:\n",
        "    print(\"Not a palindrome!\")"
      ],
      "metadata": {
        "id": "xiLI78YpEJpN",
        "colab": {
          "base_uri": "https://localhost:8080/"
        },
        "outputId": "36e958c7-533a-4397-c170-e6845dfc16f2"
      },
      "execution_count": null,
      "outputs": [
        {
          "output_type": "stream",
          "name": "stdout",
          "text": [
            "Enter a number:234\n",
            "Not a palindrome!\n"
          ]
        }
      ]
    },
    {
      "cell_type": "markdown",
      "source": [
        "**Q9. Write a code to print odd numbers from 1 to 100 using list comprehension.**"
      ],
      "metadata": {
        "id": "eQviVndYEKTw"
      }
    },
    {
      "cell_type": "markdown",
      "source": [
        "**Note: Use a list comprehension to create a list from 1 to 100 and use another List comprehension to filter\n",
        "out odd numbers.**"
      ],
      "metadata": {
        "id": "iP7dP0k1EUsk"
      }
    },
    {
      "cell_type": "code",
      "source": [
        "list1=[]\n",
        "for i in range(0,100):\n",
        "  if i%2!=0:\n",
        "    list1.append(i)\n",
        "print(list1,end=\" \")"
      ],
      "metadata": {
        "id": "pPRx9eV0EQyY",
        "colab": {
          "base_uri": "https://localhost:8080/"
        },
        "outputId": "ab1d387a-d4cf-4ae1-bae5-2f141b47f054"
      },
      "execution_count": null,
      "outputs": [
        {
          "output_type": "stream",
          "name": "stdout",
          "text": [
            "[1, 3, 5, 7, 9, 11, 13, 15, 17, 19, 21, 23, 25, 27, 29, 31, 33, 35, 37, 39, 41, 43, 45, 47, 49, 51, 53, 55, 57, 59, 61, 63, 65, 67, 69, 71, 73, 75, 77, 79, 81, 83, 85, 87, 89, 91, 93, 95, 97, 99] "
          ]
        }
      ]
    },
    {
      "cell_type": "code",
      "source": [],
      "metadata": {
        "id": "LhBiWmJnVLnK"
      },
      "execution_count": null,
      "outputs": []
    }
  ]
}