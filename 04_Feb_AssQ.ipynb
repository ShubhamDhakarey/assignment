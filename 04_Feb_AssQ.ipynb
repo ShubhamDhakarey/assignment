{
  "nbformat": 4,
  "nbformat_minor": 0,
  "metadata": {
    "colab": {
      "provenance": []
    },
    "kernelspec": {
      "name": "python3",
      "display_name": "Python 3"
    },
    "language_info": {
      "name": "python"
    }
  },
  "cells": [
    {
      "cell_type": "markdown",
      "source": [
        "**Q1. Create a python program to sort the given list of tuples based on integer value using a\n",
        "lambda function.**"
      ],
      "metadata": {
        "id": "0LHqIbOAMdmC"
      }
    },
    {
      "cell_type": "code",
      "execution_count": null,
      "metadata": {
        "colab": {
          "base_uri": "https://localhost:8080/"
        },
        "id": "sWUzNjROMcJv",
        "outputId": "772f7e25-2bce-4dbf-aa6f-a55751705a24"
      },
      "outputs": [
        {
          "output_type": "stream",
          "name": "stdout",
          "text": [
            "[('Virat Kohli', 24936), ('Jack Kallis', 25534), ('Ricky Ponting', 27483), ('Sachin Tendulkar', 34357)]\n"
          ]
        }
      ],
      "source": [
        "lis=[('Sachin Tendulkar', 34357), ('Ricky Ponting', 27483), ('Jack Kallis', 25534), ('Virat Kohli', 24936)]\n",
        "\n",
        "sorted_data = sorted(lis, key=lambda x: x[1])\n",
        "print(sorted_data)"
      ]
    },
    {
      "cell_type": "markdown",
      "source": [
        "**Q2. Write a Python Program to find the squares of all the numbers in the given list of integers using\n",
        "lambda and map functions.**"
      ],
      "metadata": {
        "id": "JGEGDFKfQ4-_"
      }
    },
    {
      "cell_type": "code",
      "source": [
        "lis=[1, 2, 3, 4, 5, 6, 7, 8, 9, 10]\n",
        "x= list(map(lambda a:a**2,lis))\n",
        "print(x)"
      ],
      "metadata": {
        "colab": {
          "base_uri": "https://localhost:8080/"
        },
        "id": "XsZ5iijTPcwC",
        "outputId": "a0a3f8c6-a1d1-41c2-e2de-b0ddc4a2aa80"
      },
      "execution_count": null,
      "outputs": [
        {
          "output_type": "stream",
          "name": "stdout",
          "text": [
            "[1, 4, 9, 16, 25, 36, 49, 64, 81, 100]\n"
          ]
        }
      ]
    },
    {
      "cell_type": "markdown",
      "source": [
        "**Q3. Write a python program to convert the given list of integers into a tuple of strings. Use map and\n",
        "lambda functions\n",
        "Given String: [1, 2, 3, 4, 5, 6, 7, 8, 9, 10]\n",
        "Expected output: ('1', '2', '3', '4', '5', '6', '7', '8', '9', '10').**"
      ],
      "metadata": {
        "id": "t9w8Io5qVFUj"
      }
    },
    {
      "cell_type": "code",
      "source": [
        "lis=[1, 2, 3, 4, 5, 6, 7, 8, 9, 10]\n",
        "x= tuple(map(lambda a:str(a),lis))\n",
        "print(x)"
      ],
      "metadata": {
        "colab": {
          "base_uri": "https://localhost:8080/"
        },
        "id": "YDf6LAJUTEFw",
        "outputId": "77d87e07-080c-4a40-fdee-0feb12dc30e8"
      },
      "execution_count": null,
      "outputs": [
        {
          "output_type": "stream",
          "name": "stdout",
          "text": [
            "('1', '2', '3', '4', '5', '6', '7', '8', '9', '10')\n"
          ]
        }
      ]
    },
    {
      "cell_type": "markdown",
      "source": [
        "**Q4.  Write a python program using reduce function to compute the product of a list containing numbers\n",
        "from 1 to 25.**"
      ],
      "metadata": {
        "id": "gjM0xYoWWZ3g"
      }
    },
    {
      "cell_type": "code",
      "source": [
        "import functools\n",
        "lis=list(range(1,26))\n",
        "x=functools.reduce(lambda a,b:a*b,lis)\n",
        "print(x)"
      ],
      "metadata": {
        "colab": {
          "base_uri": "https://localhost:8080/"
        },
        "id": "o5xBxBO5Vb_9",
        "outputId": "3f8f312d-3dfa-4be3-94b9-1c0a62395a76"
      },
      "execution_count": null,
      "outputs": [
        {
          "output_type": "stream",
          "name": "stdout",
          "text": [
            "15511210043330985984000000\n"
          ]
        }
      ]
    },
    {
      "cell_type": "markdown",
      "source": [
        "**Q6. Write a python program to find palindromes in the given list of strings using lambda and filter\n",
        "function.\n",
        "['python', 'php', 'aba', 'radar', 'level']**"
      ],
      "metadata": {
        "id": "gHGyTb5PaSHx"
      }
    },
    {
      "cell_type": "code",
      "source": [
        "str=['python', 'php', 'aba', 'radar', 'level']\n",
        "palindrome=list(filter(lambda x:x==x[::-1],str))\n",
        "print(palindrome)"
      ],
      "metadata": {
        "colab": {
          "base_uri": "https://localhost:8080/"
        },
        "id": "PleGIA3VZV8z",
        "outputId": "15f814ce-acaa-4e67-8c9e-7336c9720eba"
      },
      "execution_count": null,
      "outputs": [
        {
          "output_type": "stream",
          "name": "stdout",
          "text": [
            "['php', 'aba', 'radar', 'level']\n"
          ]
        }
      ]
    },
    {
      "cell_type": "code",
      "source": [],
      "metadata": {
        "id": "DzInyqcVaxsH"
      },
      "execution_count": null,
      "outputs": []
    }
  ]
}